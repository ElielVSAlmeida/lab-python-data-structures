{
 "cells": [
  {
   "cell_type": "markdown",
   "metadata": {
    "tags": []
   },
   "source": [
    "# Lab | Data Structures "
   ]
  },
  {
   "cell_type": "markdown",
   "metadata": {},
   "source": [
    "## Exercise: Managing Customer Orders\n",
    "\n",
    "As part of a business venture, you are starting an online store that sells various products. To ensure smooth operations, you need to develop a program that manages customer orders and inventory.\n",
    "\n",
    "Follow the steps below to complete the exercise:\n",
    "\n",
    "1. Define a list called `products` that contains the following items: \"t-shirt\", \"mug\", \"hat\", \"book\", \"keychain\".\n",
    "\n",
    "2. Create an empty dictionary called `inventory`.\n",
    "\n",
    "3. Ask the user to input the quantity of each product available in the inventory. Use the product names from the `products` list as keys in the `inventory` dictionary and assign the respective quantities as values.\n",
    "\n",
    "4. Create an empty set called `customer_orders`.\n",
    "\n",
    "5. Ask the user to input the name of three products that a customer wants to order (from those in the products list, meaning three products out of \"t-shirt\", \"mug\", \"hat\", \"book\" or \"keychain\". Add each product name to the `customer_orders` set.\n",
    "\n",
    "6. Print the products in the `customer_orders` set.\n",
    "\n",
    "7. Calculate the following order statistics:\n",
    "   - Total Products Ordered: The total number of products in the `customer_orders` set.\n",
    "   - Percentage of Products Ordered: The percentage of products ordered compared to the total available products.\n",
    "   \n",
    "   Store these statistics in a tuple called `order_status`.\n",
    "\n",
    "8. Print the order statistics using the following format:\n",
    "   ```\n",
    "   Order Statistics:\n",
    "   Total Products Ordered: <total_products_ordered>\n",
    "   Percentage of Products Ordered: <percentage_ordered>% \n",
    "   ```\n",
    "\n",
    "9. Update the inventory by subtracting 1 from the quantity of each product. Modify the `inventory` dictionary accordingly.\n",
    "\n",
    "10. Print the updated inventory, displaying the quantity of each product on separate lines.\n",
    "\n",
    "Solve the exercise by implementing the steps using the Python concepts of lists, dictionaries, sets, and basic input/output operations. "
   ]
  },
  {
   "cell_type": "code",
   "execution_count": 51,
   "metadata": {},
   "outputs": [
    {
     "name": "stdout",
     "output_type": "stream",
     "text": [
      "Please place the quantity of T-shirts: 7\n",
      "Please place the quantity of Mugs: 6\n",
      "Please place the quantity of Hats: 5\n",
      "Please place the quantity of Books: 9\n",
      "Please place the quantity of Keychain: 3\n",
      "{'t-shirt': 7, 'mug': 6, 'hat': 5, 'book': 9, 'keychain': 3}\n"
     ]
    }
   ],
   "source": [
    "products = [\"t-shirt\", \"mug\", \"hat\", \"book\", \"keychain\"]\n",
    "inventory = {}\n",
    "qt = int(input('Please place the quantity of T-shirts: '))\n",
    "inventory[products[0]] = qt\n",
    "qm = int(input('Please place the quantity of Mugs: '))\n",
    "inventory[products[1]] = qm\n",
    "qh = int(input('Please place the quantity of Hats: '))\n",
    "inventory[products[2]] = qh\n",
    "qb = int(input('Please place the quantity of Books: '))\n",
    "inventory[products[3]] = qb\n",
    "qk = int(input('Please place the quantity of Keychain: '))\n",
    "inventory[products[4]] = qk\n",
    "print(inventory)"
   ]
  },
  {
   "cell_type": "code",
   "execution_count": 24,
   "metadata": {},
   "outputs": [
    {
     "name": "stdout",
     "output_type": "stream",
     "text": [
      "Products you want order? hat\n",
      "Products you want order? mug\n",
      "Products you want order? book\n",
      "{'hat', 'book', 'mug'}\n"
     ]
    }
   ],
   "source": [
    "customer_order = set()\n",
    "qc1 = input('Products you want order? ')\n",
    "customer_order.add(qc1)\n",
    "qc2 = input('Products you want order? ')\n",
    "customer_order.add(qc2)\n",
    "qc3 = input('Products you want order? ')\n",
    "customer_order.add(qc3)\n",
    "print(customer_order)"
   ]
  },
  {
   "cell_type": "code",
   "execution_count": 52,
   "metadata": {},
   "outputs": [
    {
     "data": {
      "text/plain": [
       "30"
      ]
     },
     "execution_count": 52,
     "metadata": {},
     "output_type": "execute_result"
    }
   ],
   "source": [
    "sum(inventory.values())"
   ]
  },
  {
   "cell_type": "code",
   "execution_count": 53,
   "metadata": {},
   "outputs": [
    {
     "name": "stdout",
     "output_type": "stream",
     "text": [
      "Order Statistics: \n",
      "\n",
      "Total Products Ordered: 3 \n",
      "\n",
      "Percentage of Products Ordered: 10.0%\n"
     ]
    }
   ],
   "source": [
    "quantCusOrder = len(customer_order)\n",
    "customerPercentege = quantCusOrder/sum(inventory.values())*100\n",
    "orderStatus = (quantCusOrder, customerPercentege)\n",
    "print( \"Order Statistics: \\n\")\n",
    "print(f\"Total Products Ordered: {orderStatus[0]} \\n\")\n",
    "print(f\"Percentage of Products Ordered: {orderStatus[1]}%\")"
   ]
  },
  {
   "cell_type": "code",
   "execution_count": 54,
   "metadata": {},
   "outputs": [
    {
     "name": "stdout",
     "output_type": "stream",
     "text": [
      "In the inventory of t-shirt there is 7 items\n",
      "In the inventory of mug there is 6 items\n",
      "In the inventory of hat there is 5 items\n",
      "In the inventory of book there is 9 items\n",
      "In the inventory of keychain there is 3 items\n"
     ]
    }
   ],
   "source": [
    "for i, j in inventory.items():\n",
    "    inventory[i] = j - 1\n",
    "    print('In the inventory of' , i, 'there is', j, 'items')"
   ]
  }
 ],
 "metadata": {
  "kernelspec": {
   "display_name": "Python 3 (ipykernel)",
   "language": "python",
   "name": "python3"
  },
  "language_info": {
   "codemirror_mode": {
    "name": "ipython",
    "version": 3
   },
   "file_extension": ".py",
   "mimetype": "text/x-python",
   "name": "python",
   "nbconvert_exporter": "python",
   "pygments_lexer": "ipython3",
   "version": "3.11.3"
  }
 },
 "nbformat": 4,
 "nbformat_minor": 4
}
